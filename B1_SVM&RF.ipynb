{
 "cells": [
  {
   "cell_type": "markdown",
   "metadata": {},
   "source": [
    "# B1: Face Shape Classifier - SVM"
   ]
  },
  {
   "cell_type": "markdown",
   "metadata": {},
   "source": [
    "# Import the required libraries"
   ]
  },
  {
   "cell_type": "code",
   "execution_count": 99,
   "metadata": {
    "scrolled": true
   },
   "outputs": [],
   "source": [
    "import numpy as np\n",
    "from sklearn import svm\n",
    "from sklearn.ensemble import RandomForestClassifier\n",
    "from sklearn.metrics import classification_report,accuracy_score\n",
    "from sklearn.metrics import classification_report, accuracy_score, confusion_matrix\n",
    "from sklearn.model_selection import GridSearchCV, cross_val_score, learning_curve\n",
    "from sklearn.model_selection import train_test_split\n",
    "import time\n",
    "import matplotlib.pyplot as plt\n",
    "import pandas as pd"
   ]
  },
  {
   "cell_type": "code",
   "execution_count": 3,
   "metadata": {},
   "outputs": [],
   "source": [
    "import features_extraction_B as feB\n",
    "import warnings\n",
    "warnings.filterwarnings(\"ignore\")"
   ]
  },
  {
   "cell_type": "markdown",
   "metadata": {},
   "source": [
    "# Feature Extraction and Data Split"
   ]
  },
  {
   "cell_type": "code",
   "execution_count": 4,
   "metadata": {},
   "outputs": [
    {
     "name": "stdout",
     "output_type": "stream",
     "text": [
      "(7766, 68, 2)\n",
      "The running time is 169.2298001 s\n"
     ]
    }
   ],
   "source": [
    "# extract face shape features and labels from images by landmarks\n",
    "startTime = time.clock()\n",
    "\n",
    "task = 'B1'\n",
    "test = 0\n",
    "X_cartoon, y_face, _ = feB.extract_features_labels(test, task)   # obtain 68 facial features given an (128*128) image \n",
    "print(X_cartoon.shape)\n",
    "\n",
    "endTime = time.clock()\n",
    "runTime = endTime - startTime\n",
    "print('The running time is',runTime,'s')"
   ]
  },
  {
   "cell_type": "code",
   "execution_count": 43,
   "metadata": {},
   "outputs": [
    {
     "name": "stdout",
     "output_type": "stream",
     "text": [
      "(7766, 17, 2)\n"
     ]
    }
   ],
   "source": [
    "X_cartoon_jaw = X_cartoon[:,0:17,:]    # the first 17 features indicate the jaw\n",
    "print(X_cartoon_jaw.shape)"
   ]
  },
  {
   "cell_type": "code",
   "execution_count": 17,
   "metadata": {},
   "outputs": [],
   "source": [
    "# split data into training set and validation set\n",
    "def data_split(X, y_label, test_size):\n",
    "    X_train, X_val, y_train, y_val = train_test_split(X, y_label, test_size=test_size, random_state=1)\n",
    "   \n",
    "    X_train = X_train.reshape(len(X_train), 17*2)\n",
    "    X_val = X_val.reshape(len(X_val), 17*2)   #only need 17*2 data for each image\n",
    "\n",
    "    return X_train, X_val, y_train, y_val"
   ]
  },
  {
   "cell_type": "code",
   "execution_count": 31,
   "metadata": {},
   "outputs": [
    {
     "name": "stdout",
     "output_type": "stream",
     "text": [
      "(5436, 34)\n",
      "(2330,)\n"
     ]
    }
   ],
   "source": [
    "# pre-processing\n",
    "y_label = y_face  # B1\n",
    "test_size = 0.3\n",
    "X_train, X_val, y_train, y_val = data_split(X_cartoon_jaw, y_label, test_size)\n",
    "\n",
    "print(X_train.shape)\n",
    "print(y_val.shape)"
   ]
  },
  {
   "cell_type": "markdown",
   "metadata": {},
   "source": [
    "# Build SVM Model"
   ]
  },
  {
   "cell_type": "markdown",
   "metadata": {},
   "source": [
    "Test the following kernel functions implemented in the scikit learn library:\n",
    "1. linear: \\begin{align} <x,x'> \\end{align}\n",
    "\n",
    "2. polynomial: \\begin{align} (\\gamma <x,x'> +r)^d\\end{align} \n",
    "3. rbf:\\begin{align}e^{(-\\gamma||x-x'||^2)} \\end{align} \n"
   ]
  },
  {
   "cell_type": "code",
   "execution_count": 94,
   "metadata": {},
   "outputs": [],
   "source": [
    "# Build the SVM model with the optimized params found by GridSearchCV\n",
    "def svmPredictCV(x_train, y_train, x_val):\n",
    "    svmclf = svm.SVC()\n",
    "    param_grid = [#{'kernel': ['linear'], 'C': [0.5,1,10,100]},\n",
    "                  {'kernel': ['rbf'], 'gamma': [0.01], 'C': [2,3,4]},\n",
    "                  #{'kernel': ['poly'], 'degree': [2,3], 'C': [0.5,1,10,100]}\n",
    "                  ]\n",
    "    grid_search = GridSearchCV(svmclf, param_grid, cv=3, scoring='accuracy', n_jobs=-1) \n",
    "    grid_search.fit(x_train, y_train)\n",
    "    \n",
    "    # print result dataframe  \n",
    "    result = pd.concat([pd.DataFrame(grid_search.cv_results_[\"params\"]), pd.DataFrame(grid_search.cv_results_[\"mean_test_score\"], columns=[\"Accuracy\"])], axis=1)\n",
    "    print(result) \n",
    "    best_accuracy_score = grid_search.best_score_\n",
    "    best_params = grid_search.best_params_\n",
    "    print(\"Best: %f using %s\" % (best_accuracy_score, best_params))\n",
    "    \n",
    "    # predict with the best classifier\n",
    "    svmclf_cv = grid_search.best_estimator_\n",
    "    y_pred = svmclf_cv.predict(x_val)\n",
    "    \n",
    "    return y_pred, svmclf_cv  "
   ]
  },
  {
   "cell_type": "code",
   "execution_count": 92,
   "metadata": {},
   "outputs": [],
   "source": [
    "# TEST: Build the SVM model\n",
    "def svmPredict(x_train,y_train, x_val):\n",
    "    svmclf = svm.SVC(kernel='linear', C=10)\n",
    "    svmclf.fit(x_train, y_train)\n",
    "    y_pred = svmclf.predict(x_val)\n",
    "    return y_pred, svmclf"
   ]
  },
  {
   "cell_type": "code",
   "execution_count": 95,
   "metadata": {},
   "outputs": [
    {
     "name": "stdout",
     "output_type": "stream",
     "text": [
      "   C  gamma kernel  Accuracy\n",
      "0  2   0.01    rbf  0.664459\n",
      "1  3   0.01    rbf  0.664643\n",
      "2  4   0.01    rbf  0.666115\n",
      "Best: 0.666115 using {'C': 4, 'gamma': 0.01, 'kernel': 'rbf'}\n",
      "0.6180257510729614\n",
      "The running time is 8.336850200001209 s\n"
     ]
    }
   ],
   "source": [
    "# Train the SVM model\n",
    "startTime = time.clock()\n",
    "\n",
    "#best_accuracy_score, best_params = SVM_params(X_train, y_train, X_val, y_val)\n",
    "#y_pred1, svmclf = svmPredict(X_train, y_train, X_val)\n",
    "y_pred, svmclf_cv = svmPredictCV(X_train, y_train, X_val)\n",
    "print(accuracy_score(y_val, y_pred1))\n",
    "\n",
    "endTime = time.clock()\n",
    "runTime = endTime - startTime\n",
    "print('The running time is',runTime,'s')"
   ]
  },
  {
   "cell_type": "markdown",
   "metadata": {},
   "source": [
    "# Assessment"
   ]
  },
  {
   "cell_type": "code",
   "execution_count": 47,
   "metadata": {},
   "outputs": [],
   "source": [
    "# plot learning curve; developed by sklearn official document\n",
    "def plot_learning_curve(estimator, X, y):\n",
    "    plt.figure()\n",
    "    plt.title('Learning Curve')\n",
    "    plt.xlabel('Number of training examples')\n",
    "    plt.ylabel('Score')\n",
    "    train_sizes, train_scores, test_scores = learning_curve(estimator, X, y)  #train_sizes=np.linspace(.1, 1.0, 5)\n",
    "    train_scores_mean = np.mean(train_scores, axis=1)\n",
    "    train_scores_std = np.std(train_scores, axis=1)\n",
    "    test_scores_mean = np.mean(test_scores, axis=1)\n",
    "    test_scores_std = np.std(test_scores, axis=1)\n",
    "    \n",
    "    plt.grid()\n",
    "    plt.fill_between(train_sizes, train_scores_mean - train_scores_std,\n",
    "                     train_scores_mean + train_scores_std, alpha=0.1,\n",
    "                     color=\"r\")\n",
    "    plt.fill_between(train_sizes, test_scores_mean - test_scores_std,\n",
    "                     test_scores_mean + test_scores_std, alpha=0.1, color=\"g\")\n",
    "    plt.plot(train_sizes, train_scores_mean, 'o-', color=\"r\",\n",
    "             label=\"Training score\")\n",
    "    plt.plot(train_sizes, test_scores_mean, 'o-', color=\"g\",\n",
    "             label=\"Cross-validation score\")\n",
    "    plt.legend(loc=\"best\")\n",
    "    #plt.savefig(title+'.png')\n",
    "\n",
    "    return plt, np.mean(train_scores_mean)"
   ]
  },
  {
   "cell_type": "code",
   "execution_count": 98,
   "metadata": {},
   "outputs": [
    {
     "name": "stdout",
     "output_type": "stream",
     "text": [
      "              precision    recall  f1-score   support\n",
      "\n",
      "           0       0.69      0.72      0.70       428\n",
      "           1       0.62      0.63      0.62       427\n",
      "           2       0.69      0.65      0.67       513\n",
      "           3       0.66      0.62      0.64       484\n",
      "           4       0.80      0.86      0.83       478\n",
      "\n",
      "    accuracy                           0.69      2330\n",
      "   macro avg       0.69      0.69      0.69      2330\n",
      "weighted avg       0.69      0.69      0.69      2330\n",
      "\n"
     ]
    },
    {
     "data": {
      "image/png": "[encoded data removed]",
      "text/plain": [
       "<Figure size 432x288 with 1 Axes>"
      ]
     },
     "metadata": {
      "needs_background": "light"
     },
     "output_type": "display_data"
    },
    {
     "name": "stdout",
     "output_type": "stream",
     "text": [
      "0.8391883434341741\n"
     ]
    }
   ],
   "source": [
    "#print(confusion_matrix(y_val, y_pred1))\n",
    "print(classification_report(y_val,y_pred)) \n",
    "#acc_cv = cross_val_score(rf_optimized, X_all, y_smiling, scoring = 'accuracy', cv=5).mean()\n",
    "#print('Accuracy score with 5-cross validation:', acc_cv)\n",
    "plt, mean_score = plot_learning_curve(svmclf_cv, X_train, y_train)\n",
    "plt.show()\n",
    "print(mean_score)"
   ]
  },
  {
   "cell_type": "code",
   "execution_count": 110,
   "metadata": {},
   "outputs": [],
   "source": [
    "# TEST: Build Random Forest Model \n",
    "def RanForPredict(x_train, y_train, x_val, n):\n",
    "    rf = RandomForestClassifier(n_estimators=n, criterion='gini', max_features=0.3, max_depth=8) \n",
    "    rf.fit(X_train, y_train)\n",
    "    y_pred = rf.predict(X_val)\n",
    "    return rf, y_pred"
   ]
  },
  {
   "cell_type": "code",
   "execution_count": 111,
   "metadata": {},
   "outputs": [
    {
     "name": "stdout",
     "output_type": "stream",
     "text": [
      "The running time is 0.780712300002051 s\n",
      "              precision    recall  f1-score   support\n",
      "\n",
      "           0       0.73      0.68      0.70       428\n",
      "           1       0.61      0.57      0.59       427\n",
      "           2       0.68      0.65      0.67       513\n",
      "           3       0.57      0.62      0.60       484\n",
      "           4       0.79      0.86      0.82       478\n",
      "\n",
      "    accuracy                           0.68      2330\n",
      "   macro avg       0.68      0.67      0.67      2330\n",
      "weighted avg       0.68      0.68      0.68      2330\n",
      "\n"
     ]
    },
    {
     "data": {
      "image/png": "[encoded data removed]",
      "text/plain": [
       "<Figure size 432x288 with 1 Axes>"
      ]
     },
     "metadata": {
      "needs_background": "light"
     },
     "output_type": "display_data"
    },
    {
     "name": "stdout",
     "output_type": "stream",
     "text": [
      "0.8745640878216557\n"
     ]
    }
   ],
   "source": [
    "startTime = time.clock()\n",
    "rf, y_pred2 = RanForPredict(X_train, y_train, X_val, 100)\n",
    "endTime = time.clock()\n",
    "runTime = endTime - startTime\n",
    "print('The running time is',runTime,'s')\n",
    "\n",
    "#print(confusion_matrix(y_val, y_pred))\n",
    "print(classification_report(y_val,y_pred2)) \n",
    "#acc_cv = cross_val_score(rf_optimized, X_all, y_smiling, scoring = 'accuracy', cv=5).mean()\n",
    "#print('Accuracy score with 5-cross validation:', acc_cv)\n",
    "plt, mean_score = plot_learning_curve(rf, X_train, y_train)\n",
    "plt.show()\n",
    "print(mean_score)"
   ]
  },
  {
   "cell_type": "code",
   "execution_count": null,
   "metadata": {},
   "outputs": [],
   "source": []
  }
 ],
 "metadata": {
  "anaconda-cloud": {},
  "kernelspec": {
   "display_name": "Python 3",
   "language": "python",
   "name": "python3"
  },
  "language_info": {
   "codemirror_mode": {
    "name": "ipython",
    "version": 3
   },
   "file_extension": ".py",
   "mimetype": "text/x-python",
   "name": "python",
   "nbconvert_exporter": "python",
   "pygments_lexer": "ipython3",
   "version": "3.7.9"
  }
 },
 "nbformat": 4,
 "nbformat_minor": 1
}
