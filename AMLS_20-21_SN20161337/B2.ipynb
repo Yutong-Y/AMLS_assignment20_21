{
 "cells": [
  {
   "cell_type": "markdown",
   "metadata": {},
   "source": [
    "# B2: Eye Color Classifier - SVM vs RF"
   ]
  },
  {
   "cell_type": "markdown",
   "metadata": {},
   "source": [
    "# Import the required libraries"
   ]
  },
  {
   "cell_type": "code",
   "execution_count": 1,
   "metadata": {
    "scrolled": true
   },
   "outputs": [],
   "source": [
    "import numpy as np\n",
    "from sklearn import svm\n",
    "from sklearn.ensemble import RandomForestClassifier\n",
    "from sklearn.metrics import classification_report, accuracy_score, confusion_matrix\n",
    "from sklearn.model_selection import GridSearchCV, cross_val_score, learning_curve\n",
    "import time\n",
    "import pandas as pd"
   ]
  },
  {
   "cell_type": "code",
   "execution_count": 3,
   "metadata": {},
   "outputs": [],
   "source": [
    "import Tools as Tool\n",
    "import warnings\n",
    "warnings.filterwarnings(\"ignore\")"
   ]
  },
  {
   "cell_type": "markdown",
   "metadata": {},
   "source": [
    "# Feature Extraction and Data Split"
   ]
  },
  {
   "cell_type": "code",
   "execution_count": 4,
   "metadata": {},
   "outputs": [
    {
     "name": "stdout",
     "output_type": "stream",
     "text": [
      "Get the data from feature extraction for B2.\n",
      "Split the data into training, validation and test set for B2.\n",
      "The running time is 62.1733416 s\n"
     ]
    }
   ],
   "source": [
    "# extract face shape features and labels from images by landmarks\n",
    "startTime = time.clock()\n",
    "X_train, X_val, X_test, y_train, y_val, y_test = Tool.data_preprocessingB2(test_size=0.3)\n",
    "\n",
    "endTime = time.clock()\n",
    "runTime = endTime - startTime\n",
    "print('The running time is',runTime,'s')"
   ]
  },
  {
   "cell_type": "markdown",
   "metadata": {},
   "source": [
    "# Train the SVM Model and RF Model"
   ]
  },
  {
   "cell_type": "code",
   "execution_count": 32,
   "metadata": {},
   "outputs": [],
   "source": [
    "# Build the SVM model with the optimized params found by GridSearchCV\n",
    "def svmPredictCV(x_train, y_train, x_val):\n",
    "    svmclf = svm.SVC()\n",
    "    param_grid = [{'kernel': ['poly'], 'degree': [2,3], 'C': [1,10]}\n",
    "                  ]\n",
    "    grid_search = GridSearchCV(svmclf, param_grid, cv=3, scoring='accuracy')    \n",
    "    grid_search.fit(x_train, y_train)\n",
    "    \n",
    "    # print dataframe  \n",
    "    result = pd.concat([pd.DataFrame(grid_search.cv_results_[\"params\"]), pd.DataFrame(grid_search.cv_results_[\"mean_test_score\"], columns=[\"Accuracy\"])], axis=1)\n",
    "    print(result) \n",
    "    best_accuracy_score = grid_search.best_score_\n",
    "    best_params = grid_search.best_params_\n",
    "    print(\"Best: %f using %s\" % (best_accuracy_score, best_params))\n",
    "    \n",
    "    # predict with the best classifier\n",
    "    svmclf_cv = grid_search.best_estimator_\n",
    "    y_pred = svmclf_cv.predict(x_val)\n",
    "    \n",
    "    return y_pred, svmclf_cv  "
   ]
  },
  {
   "cell_type": "code",
   "execution_count": 25,
   "metadata": {},
   "outputs": [],
   "source": [
    "# Build Random Forest Model using Optimized n by GridSearchCV\n",
    "def RanForCV(x_train, y_train, x_val):    \n",
    "    rf = RandomForestClassifier(criterion='gini', max_features='log2', max_depth=10) #cv=3\n",
    "    n_estimators = [10,30,50,100,200,300]\n",
    "    param_grid = dict(n_estimators=n_estimators)\n",
    "    grid_search = GridSearchCV(rf, param_grid)    \n",
    "    grid_search.fit(x_train, y_train)    \n",
    "    \n",
    "    # print dataframe  \n",
    "    result = pd.concat([pd.DataFrame(grid_search.cv_results_[\"params\"]), pd.DataFrame(grid_search.cv_results_[\"mean_test_score\"], columns=[\"Accuracy\"])], axis=1)\n",
    "    print(result) \n",
    "    best_accuracy_score = grid_search.best_score_\n",
    "    best_params = grid_search.best_params_\n",
    "    print(\"Best: %f using %s\" % (best_accuracy_score, best_params))\n",
    "    \n",
    "    # predict with the best classifier\n",
    "    rf_cv = grid_search.best_estimator_\n",
    "    y_pred = rf_cv.predict(x_val)\n",
    "    \n",
    "    return y_pred, rf_cv  "
   ]
  },
  {
   "cell_type": "code",
   "execution_count": 33,
   "metadata": {},
   "outputs": [
    {
     "name": "stdout",
     "output_type": "stream",
     "text": [
      "    C  degree kernel  Accuracy\n",
      "0  10       2   poly  0.812144\n",
      "1   1       3   poly  0.795429\n",
      "2  10       3   poly  0.778144\n",
      "Best: 0.812144 using {'C': 10, 'degree': 2, 'kernel': 'poly'}\n",
      "0.819\n",
      "The running time is 884.6801625000007 s\n"
     ]
    }
   ],
   "source": [
    "# Train the SVM model to find optimal params\n",
    "startTime = time.clock()\n",
    "\n",
    "y_pred, svmclf_cv = svmPredictCV(X_train, y_train, X_val)\n",
    "print(accuracy_score(y_val, y_pred))\n",
    "\n",
    "endTime = time.clock()\n",
    "runTime = endTime - startTime\n",
    "print('The running time is',runTime,'s')   # >200s"
   ]
  },
  {
   "cell_type": "code",
   "execution_count": 31,
   "metadata": {},
   "outputs": [
    {
     "name": "stdout",
     "output_type": "stream",
     "text": [
      "[[499  21  10  39  44]\n",
      " [ 21 485  28  27  42]\n",
      " [ 15  10 496  25  55]\n",
      " [ 10  16  20 489  46]\n",
      " [ 14  20  24  32 512]]\n",
      "              precision    recall  f1-score   support\n",
      "\n",
      "           0       0.89      0.81      0.85       613\n",
      "           1       0.88      0.80      0.84       603\n",
      "           2       0.86      0.83      0.84       601\n",
      "           3       0.80      0.84      0.82       581\n",
      "           4       0.73      0.85      0.79       602\n",
      "\n",
      "    accuracy                           0.83      3000\n",
      "   macro avg       0.83      0.83      0.83      3000\n",
      "weighted avg       0.83      0.83      0.83      3000\n",
      "\n"
     ]
    },
    {
     "data": {
      "image/png": "[encoded data removed]",
      "text/plain": [
       "<Figure size 432x288 with 1 Axes>"
      ]
     },
     "metadata": {
      "needs_background": "light"
     },
     "output_type": "display_data"
    },
    {
     "name": "stdout",
     "output_type": "stream",
     "text": [
      "0.8525564226096483\n"
     ]
    }
   ],
   "source": [
    "print(confusion_matrix(y_val, y_pred))\n",
    "print(classification_report(y_val,y_pred)) \n",
    "\n",
    "plt = Tool.plot_learning_curve(svmclf_cv, X_train, y_train)\n",
    "plt.show()"
   ]
  },
  {
   "cell_type": "code",
   "execution_count": 26,
   "metadata": {},
   "outputs": [
    {
     "name": "stdout",
     "output_type": "stream",
     "text": [
      "   n_estimators  Accuracy\n",
      "0            10  0.550143\n",
      "1            30  0.677571\n",
      "2            50  0.719714\n",
      "3           100  0.764857\n",
      "4           200  0.774714\n",
      "5           300  0.776286\n",
      "Best: 0.776286 using {'n_estimators': 300}\n",
      "The running time is 58.72997739999846 s\n",
      "              precision    recall  f1-score   support\n",
      "\n",
      "           0       0.81      0.76      0.79       613\n",
      "           1       0.92      0.77      0.84       603\n",
      "           2       0.90      0.64      0.75       601\n",
      "           3       0.83      0.79      0.81       581\n",
      "           4       0.60      0.94      0.73       602\n",
      "\n",
      "    accuracy                           0.78      3000\n",
      "   macro avg       0.81      0.78      0.78      3000\n",
      "weighted avg       0.81      0.78      0.78      3000\n",
      "\n"
     ]
    },
    {
     "data": {
      "image/png": "[encoded data removed]",
      "text/plain": [
       "<Figure size 432x288 with 1 Axes>"
      ]
     },
     "metadata": {
      "needs_background": "light"
     },
     "output_type": "display_data"
    },
    {
     "name": "stdout",
     "output_type": "stream",
     "text": [
      "0.9641606425832233\n"
     ]
    }
   ],
   "source": [
    "# Train the RF model to find optimal params\n",
    "startTime = time.clock()\n",
    "y_pred, rf_cv = RanForCV(X_train, y_train, X_val)\n",
    "endTime = time.clock()\n",
    "runTime = endTime - startTime\n",
    "print('The running time is',runTime,'s')\n",
    "\n",
    "print(classification_report(y_val,y_pred)) \n",
    "plt = Tool.plot_learning_curve(rf_cv, X_train, y_train)\n",
    "plt.show()"
   ]
  },
  {
   "cell_type": "markdown",
   "metadata": {},
   "source": [
    "# Model_B2: Build SVM model with optimized params\n",
    "## Build RF model with optimized params tuned manually"
   ]
  },
  {
   "cell_type": "code",
   "execution_count": 6,
   "metadata": {},
   "outputs": [],
   "source": [
    "# Model_B2: Build the SVM model with the optimized params\n",
    "def model_B2(x_train, x_val, x_test, y_train):\n",
    "    B2_svm = svm.SVC(kernel='poly', C=1, degree=2)\n",
    "    B2_svm.fit(x_train, y_train)\n",
    "    y_pred_val = B2_svm.predict(x_val)\n",
    "    y_pred_test = B2_svm.predict(x_test)\n",
    "    \n",
    "    return y_pred_val, y_pred_test, B2_svm"
   ]
  },
  {
   "cell_type": "code",
   "execution_count": 9,
   "metadata": {},
   "outputs": [],
   "source": [
    "# Build Random Forest Model\n",
    "def model_B2_rf(x_train, x_val, x_test, y_train):\n",
    "    B2_rf = RandomForestClassifier(n_estimators=100, criterion='gini', max_features='log2', max_depth=10) \n",
    "    B2_rf.fit(X_train, y_train)\n",
    "    y_pred_val = B2_rf.predict(x_val)\n",
    "    y_pred_test = B2_rf.predict(x_test)\n",
    "    \n",
    "    return y_pred_val, y_pred_test, B2_rf"
   ]
  },
  {
   "cell_type": "code",
   "execution_count": 7,
   "metadata": {},
   "outputs": [
    {
     "name": "stdout",
     "output_type": "stream",
     "text": [
      "Accuracy on validation set: 0.827\n",
      "Accuracy on test set: 0.8264\n",
      "For validation set:\n",
      "              precision    recall  f1-score   support\n",
      "\n",
      "           0       0.89      0.81      0.85       613\n",
      "           1       0.88      0.80      0.84       603\n",
      "           2       0.86      0.83      0.84       601\n",
      "           3       0.80      0.84      0.82       581\n",
      "           4       0.73      0.85      0.79       602\n",
      "\n",
      "    accuracy                           0.83      3000\n",
      "   macro avg       0.83      0.83      0.83      3000\n",
      "weighted avg       0.83      0.83      0.83      3000\n",
      "\n",
      "For test set:\n",
      "              precision    recall  f1-score   support\n",
      "\n",
      "           0       0.93      0.78      0.85       506\n",
      "           1       0.87      0.80      0.84       483\n",
      "           2       0.88      0.82      0.85       525\n",
      "           3       0.80      0.83      0.82       514\n",
      "           4       0.70      0.91      0.79       472\n",
      "\n",
      "    accuracy                           0.83      2500\n",
      "   macro avg       0.84      0.83      0.83      2500\n",
      "weighted avg       0.84      0.83      0.83      2500\n",
      "\n"
     ]
    }
   ],
   "source": [
    "# Build and test the model_B2\n",
    "y_pred_val, y_pred_test, B2_svm = model_B2(X_train, X_val, X_test, y_train)\n",
    "print('Accuracy on validation set: ' + str(accuracy_score(y_val,y_pred_val)))\n",
    "print('Accuracy on test set: ' + str(accuracy_score(y_test,y_pred_test)))\n",
    "print('For validation set:')\n",
    "print(classification_report(y_val,y_pred_val))\n",
    "print('For test set:')\n",
    "print(classification_report(y_test,y_pred_test))"
   ]
  },
  {
   "cell_type": "code",
   "execution_count": 14,
   "metadata": {},
   "outputs": [
    {
     "name": "stdout",
     "output_type": "stream",
     "text": [
      "The running time is 1.7582192999999506 s\n",
      "              precision    recall  f1-score   support\n",
      "\n",
      "           0       0.85      0.75      0.79       613\n",
      "           1       0.91      0.74      0.82       603\n",
      "           2       0.91      0.68      0.78       601\n",
      "           3       0.82      0.80      0.81       581\n",
      "           4       0.60      0.95      0.74       602\n",
      "\n",
      "    accuracy                           0.78      3000\n",
      "   macro avg       0.82      0.78      0.79      3000\n",
      "weighted avg       0.82      0.78      0.79      3000\n",
      "\n"
     ]
    },
    {
     "data": {
      "image/png": "[encoded data removed]",
      "text/plain": [
       "<Figure size 432x288 with 1 Axes>"
      ]
     },
     "metadata": {
      "needs_background": "light"
     },
     "output_type": "display_data"
    },
    {
     "name": "stdout",
     "output_type": "stream",
     "text": [
      "0.9598436112274822\n"
     ]
    }
   ],
   "source": [
    "# Test the RF model\n",
    "startTime = time.clock()\n",
    "y_pred_val, y_pred_test, B2_svm = model_B2(X_train, X_val, X_test, y_train)\n",
    "endTime = time.clock()\n",
    "runTime = endTime - startTime\n",
    "print('The running time is',runTime,'s')\n",
    "\n",
    "print(classification_report(y_val,y_pred)) \n",
    "plt = Tool.plot_learning_curve(rf_optimized, X_train, y_train)\n",
    "plt.show()"
   ]
  },
  {
   "cell_type": "code",
   "execution_count": null,
   "metadata": {},
   "outputs": [],
   "source": []
  }
 ],
 "metadata": {
  "anaconda-cloud": {},
  "kernelspec": {
   "display_name": "Python 3",
   "language": "python",
   "name": "python3"
  },
  "language_info": {
   "codemirror_mode": {
    "name": "ipython",
    "version": 3
   },
   "file_extension": ".py",
   "mimetype": "text/x-python",
   "name": "python",
   "nbconvert_exporter": "python",
   "pygments_lexer": "ipython3",
   "version": "3.7.9"
  }
 },
 "nbformat": 4,
 "nbformat_minor": 1
}
