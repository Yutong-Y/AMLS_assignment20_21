{
 "cells": [
  {
   "cell_type": "markdown",
   "metadata": {},
   "source": [
    "#  A1: Gender Classifier - Logistic Regression"
   ]
  },
  {
   "cell_type": "markdown",
   "metadata": {},
   "source": [
    "# Import the required libraries"
   ]
  },
  {
   "cell_type": "code",
   "execution_count": 1,
   "metadata": {},
   "outputs": [],
   "source": [
    "import numpy as np\n",
    "import matplotlib.pyplot as plt\n",
    "from sklearn.metrics import classification_report, accuracy_score, confusion_matrix\n",
    "from sklearn.model_selection import GridSearchCV, cross_val_score, learning_curve, train_test_split\n",
    "from sklearn.linear_model import LogisticRegression, LogisticRegressionCV"
   ]
  },
  {
   "cell_type": "code",
   "execution_count": 4,
   "metadata": {},
   "outputs": [
    {
     "ename": "ModuleNotFoundError",
     "evalue": "No module named 'features_extraction_A'",
     "output_type": "error",
     "traceback": [
      "\u001b[1;31m---------------------------------------------------------------------------\u001b[0m",
      "\u001b[1;31mModuleNotFoundError\u001b[0m                       Traceback (most recent call last)",
      "\u001b[1;32m<ipython-input-4-cc8909b426c0>\u001b[0m in \u001b[0;36m<module>\u001b[1;34m\u001b[0m\n\u001b[1;32m----> 1\u001b[1;33m \u001b[1;32mimport\u001b[0m \u001b[0mfeatures_extraction_A\u001b[0m \u001b[1;32mas\u001b[0m \u001b[0mfeA\u001b[0m\u001b[1;33m\u001b[0m\u001b[1;33m\u001b[0m\u001b[0m\n\u001b[0m\u001b[0;32m      2\u001b[0m \u001b[1;32mimport\u001b[0m \u001b[0mwarnings\u001b[0m\u001b[1;33m\u001b[0m\u001b[1;33m\u001b[0m\u001b[0m\n\u001b[0;32m      3\u001b[0m \u001b[0mwarnings\u001b[0m\u001b[1;33m.\u001b[0m\u001b[0mfilterwarnings\u001b[0m\u001b[1;33m(\u001b[0m\u001b[1;34m\"ignore\"\u001b[0m\u001b[1;33m)\u001b[0m\u001b[1;33m\u001b[0m\u001b[1;33m\u001b[0m\u001b[0m\n",
      "\u001b[1;31mModuleNotFoundError\u001b[0m: No module named 'features_extraction_A'"
     ]
    }
   ],
   "source": [
    "import features_extraction_A as feA\n",
    "import warnings\n",
    "warnings.filterwarnings(\"ignore\")"
   ]
  },
  {
   "cell_type": "code",
   "execution_count": 8,
   "metadata": {},
   "outputs": [],
   "source": [
    "# extract features and labels from images by landmarks for training, validation and testing\n",
    "def get_data():\n",
    "    X_celeba, y_gender, y_smiling = feA.extract_features_labels(0)   # for training set      \n",
    "    X_celeba_test, y_gender_test, y_smiling_test = feA.extract_features_labels(1)   # for test set         \n",
    "    \n",
    "    X_celeba = X_celeba.reshape(len(X_celeba), 68*2)\n",
    "    X_celeba_test = X_celeba_test.reshape(len(X_celeba_test), 68*2)\n",
    "    print(\"Get the data from feature extraction.\")\n",
    "    \n",
    "    return X_celeba, y_gender, y_smiling, X_celeba_test, y_gender_test, y_smiling_test"
   ]
  },
  {
   "cell_type": "code",
   "execution_count": 5,
   "metadata": {},
   "outputs": [],
   "source": [
    "# split data into training set and validation set\n",
    "def data_split(X, y_label, test_size):\n",
    "    X_train, X_val, y_train, y_val = train_test_split(X, y_label, test_size=test_size, random_state=1)   \n",
    "    X_train = X_train.reshape(len(X_train), 68*2)\n",
    "    X_val = X_val.reshape(len(X_val), 68*2)\n",
    "\n",
    "    return X_train, X_val, y_train, y_val"
   ]
  },
  {
   "cell_type": "code",
   "execution_count": 6,
   "metadata": {},
   "outputs": [],
   "source": [
    "# pre-processing for training, validation and test set\n",
    "def data_preprocessing(test_size, y_label):\n",
    "    X_celeba, y_gender, y_smiling, X_celeba_test, y_gender_test, y_smiling_test = get_data()\n",
    "    X_test = X_celeba_test\n",
    "    if y_label == 'gender':\n",
    "        X_train, X_val, y_train, y_val = data_split(X_celeba, y_gender, test_size)\n",
    "        y_test = y_gender_test\n",
    "    elif y_label == 'smiling':\n",
    "        X_train, X_val, y_train, y_val = data_split(X_celeba, y_smiling, test_size)\n",
    "        y_test = y_smiling_test  \n",
    "   \n",
    "    print(\"Split the data into training, validation and test set.\")    \n",
    "    \n",
    "    return X_train, X_val, X_test, y_train, y_val, y_test"
   ]
  },
  {
   "cell_type": "code",
   "execution_count": 9,
   "metadata": {},
   "outputs": [
    {
     "name": "stdout",
     "output_type": "stream",
     "text": [
      "Get the data from feature extraction.\n",
      "Split the data into training, validation and test set.\n"
     ]
    }
   ],
   "source": [
    "test_size = 0.2\n",
    "y_label = 'gender'  # for A1\n",
    "X_train, X_val, X_test, y_train, y_val, y_test = data_preprocessing(test_size, y_label)"
   ]
  },
  {
   "cell_type": "markdown",
   "metadata": {},
   "source": [
    "# Train the Logistic Regression Model"
   ]
  },
  {
   "cell_type": "code",
   "execution_count": null,
   "metadata": {},
   "outputs": [],
   "source": [
    "# Method1: Build Logistic Regression Model with Optimized C by Cross Validation \n",
    "def logRegrCVPredict(x_train, y_train, x_val, cv):    \n",
    "    logreg = LogisticRegressionCV(solver='liblinear', cv=cv)   # default: L2 penalty\n",
    "    logreg.fit(x_train, y_train)\n",
    "    y_pred = logreg.predict(x_val)\n",
    "    print('Optimized C is', logreg.C_)\n",
    "\n",
    "    return y_pred, logreg"
   ]
  },
  {
   "cell_type": "code",
   "execution_count": null,
   "metadata": {},
   "outputs": [],
   "source": [
    "# Method2: Find Optimized C for Logistic Regression Model by GridSearchCV\n",
    "def logRegrPredictCV(x_train, y_train, x_val):    \n",
    "    logreg = LogisticRegression(solver='liblinear')   # default: L2 penalty\n",
    "    C = [0.001, 0.004, 0.04, 0.04, 0.1, 0.4, 1, 4, 10]\n",
    "    param_grid = dict(C=C)\n",
    "    grid_search = GridSearchCV(logreg, param_grid, cv=3, scoring='accuracy')    \n",
    "    grid_search.fit(x_train, y_train)\n",
    "    \n",
    "    # print dataframe  \n",
    "    result = pd.concat([pd.DataFrame(grid_search.cv_results_[\"params\"]), pd.DataFrame(grid_search.cv_results_[\"mean_test_score\"], columns=[\"Accuracy\"])], axis=1)\n",
    "    print(result)\n",
    "    best_accuracy_score = grid_search.best_score_\n",
    "    best_params = grid_search.best_params_\n",
    "    print(\"Best: %f using %s\" % (best_accuracy_score, best_params))\n",
    "    \n",
    "    # predict with the best classifier\n",
    "    logreg_cv = grid_search.best_estimator_\n",
    "    y_pred = logreg_cv.predict(x_val)\n",
    "    \n",
    "    return y_pred, logreg_cv "
   ]
  },
  {
   "cell_type": "code",
   "execution_count": null,
   "metadata": {},
   "outputs": [],
   "source": [
    "# For method1: Train the model with LogisticRegressionCV()\n",
    "cv = 3     # same with 5\n",
    "y_pred1, logreg = logRegrCVPredict(X_train, y_train, X_val, cv)   #solver: liblinear\n",
    "print('Accuracy on validation set: ' + str(accuracy_score(y_val,y_pred1)))\n",
    "print(classification_report(y_val,y_pred1))"
   ]
  },
  {
   "cell_type": "code",
   "execution_count": null,
   "metadata": {},
   "outputs": [],
   "source": [
    "# For method2: Train the LR model with GridSearchCV()\n",
    "y_pred2, logreg_cv = logRegrPredictCV(x_train, y_train, x_val)\n",
    "print('Accuracy on validation set: ' + str(accuracy_score(y_val,y_pred2)))\n",
    "print(classification_report(y_val,y_pred2))"
   ]
  },
  {
   "cell_type": "markdown",
   "metadata": {},
   "source": [
    "# Model A1: Build the Logistic Regression Model with optimized params"
   ]
  },
  {
   "cell_type": "code",
   "execution_count": 10,
   "metadata": {},
   "outputs": [],
   "source": [
    "# Model_A1: LR(solver='liblinear', C=0.04)\n",
    "def model_A1(x_train, x_val, x_test, y_train):\n",
    "    A1_lr = LogisticRegression(solver='liblinear', C=0.04)\n",
    "    A1_lr.fit(x_train, y_train)\n",
    "    y_pred_val = A1_lr.predict(x_val)\n",
    "    y_pred_test = A1_lr.predict(x_test)\n",
    "    \n",
    "    return y_pred_val, y_pred_test, A1_lr"
   ]
  },
  {
   "cell_type": "code",
   "execution_count": 16,
   "metadata": {},
   "outputs": [
    {
     "name": "stdout",
     "output_type": "stream",
     "text": [
      "Accuracy on validation set: 0.9177083333333333\n",
      "Accuracy on test set: 0.9153766769865841\n",
      "For validation set:\n",
      "              precision    recall  f1-score   support\n",
      "\n",
      "         0.0       0.90      0.93      0.92       459\n",
      "         1.0       0.94      0.90      0.92       501\n",
      "\n",
      "    accuracy                           0.92       960\n",
      "   macro avg       0.92      0.92      0.92       960\n",
      "weighted avg       0.92      0.92      0.92       960\n",
      "\n",
      "For test set:\n",
      "              precision    recall  f1-score   support\n",
      "\n",
      "         0.0       0.90      0.94      0.92       488\n",
      "         1.0       0.93      0.89      0.91       481\n",
      "\n",
      "    accuracy                           0.92       969\n",
      "   macro avg       0.92      0.92      0.92       969\n",
      "weighted avg       0.92      0.92      0.92       969\n",
      "\n"
     ]
    }
   ],
   "source": [
    "# Build and test the model_A1\n",
    "y_pred_val, y_pred_test, A1_lr = model_A1(X_train, X_val, X_test, y_train)\n",
    "print('Accuracy on validation set: ' + str(accuracy_score(y_val,y_pred_val)))\n",
    "print('Accuracy on test set: ' + str(accuracy_score(y_test,y_pred_test)))\n",
    "print('For validation set:')\n",
    "print(classification_report(y_val,y_pred_val))\n",
    "print('For test set:')\n",
    "print(classification_report(y_test,y_pred_test))"
   ]
  },
  {
   "cell_type": "markdown",
   "metadata": {},
   "source": [
    "# Plot learning curve graph"
   ]
  },
  {
   "cell_type": "code",
   "execution_count": 17,
   "metadata": {},
   "outputs": [],
   "source": [
    "# Plot learning curve; developed by sklearn official document\n",
    "def plot_learning_curve(estimator, X, y):\n",
    "    plt.figure()\n",
    "    plt.title('Learning Curve')\n",
    "    plt.xlabel('Number of training examples')\n",
    "    plt.ylabel('Score')\n",
    "    train_sizes, train_scores, test_scores = learning_curve(estimator, X, y)  #train_sizes=np.linspace(.1, 1.0, 5)\n",
    "    train_scores_mean = np.mean(train_scores, axis=1)\n",
    "    train_scores_std = np.std(train_scores, axis=1)\n",
    "    test_scores_mean = np.mean(test_scores, axis=1)\n",
    "    test_scores_std = np.std(test_scores, axis=1)\n",
    "    \n",
    "    plt.grid()\n",
    "    plt.fill_between(train_sizes, train_scores_mean - train_scores_std,\n",
    "                     train_scores_mean + train_scores_std, alpha=0.1,\n",
    "                     color=\"r\")\n",
    "    plt.fill_between(train_sizes, test_scores_mean - test_scores_std,\n",
    "                     test_scores_mean + test_scores_std, alpha=0.1, color=\"g\")\n",
    "    plt.plot(train_sizes, train_scores_mean, 'o-', color=\"r\",\n",
    "             label=\"Training score\")\n",
    "    plt.plot(train_sizes, test_scores_mean, 'o-', color=\"g\",\n",
    "             label=\"Cross-validation score\")\n",
    "    plt.legend(loc=\"best\")\n",
    "\n",
    "    return plt"
   ]
  },
  {
   "cell_type": "code",
   "execution_count": 18,
   "metadata": {},
   "outputs": [
    {
     "data": {
      "image/png": "[encoded data removed]",
      "text/plain": [
       "<Figure size 432x288 with 1 Axes>"
      ]
     },
     "metadata": {
      "needs_background": "light"
     },
     "output_type": "display_data"
    }
   ],
   "source": [
    "#plt = plot_learning_curve(logreg, X_train, y_train)     #For Method1\n",
    "#plt = plot_learning_curve(logreg_cv, X_train, y_train)  #For Method2\n",
    "plt = plot_learning_curve(A1_lr, X_train, y_train)       #For model_A1\n",
    "plt.show()"
   ]
  },
  {
   "cell_type": "code",
   "execution_count": null,
   "metadata": {},
   "outputs": [],
   "source": []
  }
 ],
 "metadata": {
  "anaconda-cloud": {},
  "kernelspec": {
   "display_name": "Python 3",
   "language": "python",
   "name": "python3"
  },
  "language_info": {
   "codemirror_mode": {
    "name": "ipython",
    "version": 3
   },
   "file_extension": ".py",
   "mimetype": "text/x-python",
   "name": "python",
   "nbconvert_exporter": "python",
   "pygments_lexer": "ipython3",
   "version": "3.7.9"
  }
 },
 "nbformat": 4,
 "nbformat_minor": 1
}
