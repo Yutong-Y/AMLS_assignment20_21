{
 "cells": [
  {
   "cell_type": "markdown",
   "metadata": {},
   "source": [
    "# B1: Face Shape Classifier - SVM vs RF"
   ]
  },
  {
   "cell_type": "markdown",
   "metadata": {},
   "source": [
    "# Import the required libraries"
   ]
  },
  {
   "cell_type": "code",
   "execution_count": 1,
   "metadata": {
    "scrolled": true
   },
   "outputs": [],
   "source": [
    "import numpy as np\n",
    "from sklearn import svm\n",
    "from sklearn.ensemble import RandomForestClassifier\n",
    "from sklearn.metrics import classification_report, accuracy_score, confusion_matrix\n",
    "from sklearn.model_selection import GridSearchCV, cross_val_score, learning_curve, train_test_split\n",
    "\n",
    "import time\n",
    "import matplotlib.pyplot as plt\n",
    "import pandas as pd"
   ]
  },
  {
   "cell_type": "code",
   "execution_count": 3,
   "metadata": {},
   "outputs": [],
   "source": [
    "import Tools as Tool\n",
    "import warnings\n",
    "warnings.filterwarnings(\"ignore\")"
   ]
  },
  {
   "cell_type": "markdown",
   "metadata": {},
   "source": [
    "# Feature Extraction and Data Split"
   ]
  },
  {
   "cell_type": "code",
   "execution_count": 4,
   "metadata": {},
   "outputs": [
    {
     "name": "stdout",
     "output_type": "stream",
     "text": [
      "Get the data from feature extraction for B1.\n",
      "Split the data into training, validation and test set for B1.\n",
      "The running time is 208.07161530000002 s\n"
     ]
    }
   ],
   "source": [
    "# extract face shape features and labels from images by landmarks\n",
    "startTime = time.clock()\n",
    "X_train, X_val, X_test, y_train, y_val, y_test = Tool.data_preprocessingB1(test_size=0.3)\n",
    "\n",
    "endTime = time.clock()\n",
    "runTime = endTime - startTime\n",
    "print('The running time is',runTime,'s')"
   ]
  },
  {
   "cell_type": "markdown",
   "metadata": {},
   "source": [
    "# Train the SVM Model and RF Model"
   ]
  },
  {
   "cell_type": "code",
   "execution_count": null,
   "metadata": {},
   "outputs": [],
   "source": [
    "# Build the SVM model with the optimized params found by GridSearchCV\n",
    "def svmPredictCV(x_train, y_train, x_val):\n",
    "    svmclf = svm.SVC()\n",
    "    param_grid = [{'kernel': ['linear'], 'C': [0.5,1,10,100]},\n",
    "                  {'kernel': ['rbf'], 'gamma': [0.01], 'C': [1,3,5]},\n",
    "                  {'kernel': ['poly'], 'degree': [2,3], 'C': [0.5,1,10,100]}\n",
    "                  ]\n",
    "    grid_search = GridSearchCV(svmclf, param_grid, cv=3, scoring='accuracy', n_jobs=-1) \n",
    "    grid_search.fit(x_train, y_train)\n",
    "    \n",
    "    # print result dataframe  \n",
    "    result = pd.concat([pd.DataFrame(grid_search.cv_results_[\"params\"]), pd.DataFrame(grid_search.cv_results_[\"mean_test_score\"], columns=[\"Accuracy\"])], axis=1)\n",
    "    print(result) \n",
    "    best_accuracy_score = grid_search.best_score_\n",
    "    best_params = grid_search.best_params_\n",
    "    print(\"Best: %f using %s\" % (best_accuracy_score, best_params))\n",
    "    \n",
    "    # predict with the best classifier\n",
    "    svmclf_cv = grid_search.best_estimator_\n",
    "    y_pred = svmclf_cv.predict(x_val)\n",
    "    \n",
    "    return y_pred, svmclf_cv  "
   ]
  },
  {
   "cell_type": "code",
   "execution_count": null,
   "metadata": {},
   "outputs": [],
   "source": [
    "# Train the SVM model\n",
    "startTime = time.clock()\n",
    "y_pred, svmclf_cv = svmPredictCV(X_train, y_train, X_val)\n",
    "print(accuracy_score(y_val, y_pred1))\n",
    "\n",
    "endTime = time.clock()\n",
    "runTime = endTime - startTime\n",
    "print('The running time is',runTime,'s')"
   ]
  },
  {
   "cell_type": "markdown",
   "metadata": {},
   "source": [
    "# Model_ B1: Build SVM model with optimized params\n",
    "## Build RF model with optimized params tuned manually"
   ]
  },
  {
   "cell_type": "code",
   "execution_count": 8,
   "metadata": {},
   "outputs": [],
   "source": [
    "# Model_B1: Build the SVM model with the optimized params\n",
    "def model_B1(x_train, x_val, x_test, y_train):\n",
    "    B1_svm = svm.SVC(kernel='rbf', C=1, gamma=0.01)\n",
    "    B1_svm.fit(x_train, y_train)\n",
    "    y_pred_val = B1_svm.predict(x_val)\n",
    "    y_pred_test = B1_svm.predict(x_test)\n",
    "    \n",
    "    return y_pred_val, y_pred_test, B1_svm "
   ]
  },
  {
   "cell_type": "code",
   "execution_count": null,
   "metadata": {},
   "outputs": [],
   "source": [
    "# Build Random Forest Model; tune the hyper-parameters manually\n",
    "def model_B1_rf(x_train, x_val, x_test, y_train):\n",
    "    B1_rf = RandomForestClassifier(n_estimators=100, criterion='gini', max_features=0.3, max_depth=8)\n",
    "    B1_rf.fit(X_train, y_train)\n",
    "    y_pred_val = B1_rf.predict(x_val)\n",
    "    y_pred_test = B1_rf.predict(x_test)\n",
    "    \n",
    "    return y_pred_val, y_pred_test, B1_rf "
   ]
  },
  {
   "cell_type": "code",
   "execution_count": 9,
   "metadata": {},
   "outputs": [
    {
     "name": "stdout",
     "output_type": "stream",
     "text": [
      "Accuracy on validation set: 0.6914163090128755\n",
      "Accuracy on test set: 0.6848167539267016\n",
      "For validation set:\n",
      "              precision    recall  f1-score   support\n",
      "\n",
      "           0       0.72      0.70      0.71       428\n",
      "           1       0.60      0.62      0.61       427\n",
      "           2       0.69      0.65      0.67       513\n",
      "           3       0.64      0.63      0.63       484\n",
      "           4       0.79      0.86      0.82       478\n",
      "\n",
      "    accuracy                           0.69      2330\n",
      "   macro avg       0.69      0.69      0.69      2330\n",
      "weighted avg       0.69      0.69      0.69      2330\n",
      "\n",
      "For test set:\n",
      "              precision    recall  f1-score   support\n",
      "\n",
      "           0       0.76      0.75      0.75       361\n",
      "           1       0.65      0.58      0.61       368\n",
      "           2       0.67      0.67      0.67       419\n",
      "           3       0.60      0.65      0.63       393\n",
      "           4       0.75      0.78      0.77       369\n",
      "\n",
      "    accuracy                           0.68      1910\n",
      "   macro avg       0.69      0.69      0.69      1910\n",
      "weighted avg       0.69      0.68      0.68      1910\n",
      "\n"
     ]
    }
   ],
   "source": [
    "# Build and test the model_B1\n",
    "y_pred_val, y_pred_test, B1_svm = model_B1(X_train, X_val, X_test, y_train)\n",
    "print('Accuracy on validation set: ' + str(accuracy_score(y_val,y_pred_val)))\n",
    "print('Accuracy on test set: ' + str(accuracy_score(y_test,y_pred_test)))\n",
    "print('For validation set:')\n",
    "print(classification_report(y_val,y_pred_val))\n",
    "print('For test set:')\n",
    "print(classification_report(y_test,y_pred_test))"
   ]
  },
  {
   "cell_type": "code",
   "execution_count": null,
   "metadata": {},
   "outputs": [],
   "source": [
    "# Build and test the RF model\n",
    "startTime = time.clock()\n",
    "y_pred_val2, y_pred_test2, B1_rf = model_B1_rf(X_train, X_val, X_test, y_train) \n",
    "endTime = time.clock()\n",
    "runTime = endTime - startTime\n",
    "print('The running time is',runTime,'s')\n",
    "\n",
    "print('Accuracy on validation set: ' + str(accuracy_score(y_val,y_pred_val2)))\n",
    "print('Accuracy on test set: ' + str(accuracy_score(y_test,y_pred_test2)))\n",
    "print('For validation set:')\n",
    "print(classification_report(y_val,y_pred_val2))\n",
    "print('For test set:')\n",
    "print(classification_report(y_test,y_pred_test2))"
   ]
  },
  {
   "cell_type": "code",
   "execution_count": 10,
   "metadata": {},
   "outputs": [
    {
     "data": {
      "image/png": "[encoded data removed]",
      "text/plain": [
       "<Figure size 432x288 with 1 Axes>"
      ]
     },
     "metadata": {
      "needs_background": "light"
     },
     "output_type": "display_data"
    }
   ],
   "source": [
    "# Plot the learning curve graph\n",
    "plt = Tool.plot_learning_curve(B1_svm, X_train, y_train)   #For SVM\n",
    "#plt = plot_learning_curve(B1_rf, X_train, y_train)       #For RF\n",
    "plt.show()"
   ]
  },
  {
   "cell_type": "code",
   "execution_count": 12,
   "metadata": {},
   "outputs": [
    {
     "name": "stderr",
     "output_type": "stream",
     "text": [
      "[NbConvertApp] Converting notebook B1.ipynb to python\n",
      "[NbConvertApp] Writing 4380 bytes to B1.py\n"
     ]
    }
   ],
   "source": [
    "try:  \n",
    "  !jupyter nbconvert --to python B1.ipynb\n",
    "  # python即转化为.py，script即转化为.html\n",
    "  # file_name.ipynb即当前module的文件名\n",
    "except:\n",
    "  pass"
   ]
  },
  {
   "cell_type": "code",
   "execution_count": null,
   "metadata": {},
   "outputs": [],
   "source": []
  }
 ],
 "metadata": {
  "anaconda-cloud": {},
  "kernelspec": {
   "display_name": "Python 3",
   "language": "python",
   "name": "python3"
  },
  "language_info": {
   "codemirror_mode": {
    "name": "ipython",
    "version": 3
   },
   "file_extension": ".py",
   "mimetype": "text/x-python",
   "name": "python",
   "nbconvert_exporter": "python",
   "pygments_lexer": "ipython3",
   "version": "3.7.9"
  }
 },
 "nbformat": 4,
 "nbformat_minor": 1
}
